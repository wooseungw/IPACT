{
 "cells": [
  {
   "cell_type": "code",
   "execution_count": 4,
   "metadata": {},
   "outputs": [
    {
     "name": "stdout",
     "output_type": "stream",
     "text": [
      "안녕하세요, 영수님! 오늘 하루는 어떻게 보내셨나요? 몸 상태는 좀 어떠세요?\n"
     ]
    }
   ],
   "source": [
    "import os\n",
    "from dotenv import load_dotenv\n",
    "from openai import OpenAI\n",
    "from gpt_class import GPT\n",
    "\n",
    "load_dotenv()\n",
    "openai = os.getenv(\"OPENAI_API_KEY\")\n",
    "system_prompt = open(\"data/prompt_output.txt\", \"r\").read()\n",
    "\n",
    "gpt = GPT(api_key=openai, model=\"gpt-4o-2024-05-13\", sys_prompt = system_prompt, top_p=1.0)\n",
    "text = \"\"\"\n",
    "안녕?\n",
    "\"\"\"\n",
    "imgs = []\n",
    "answer = gpt.generate(text_prompt = text, \n",
    "                        img_list = imgs,\n",
    "                        audio_list = None\n",
    "                        )\n",
    "print(answer)"
   ]
  },
  {
   "cell_type": "code",
   "execution_count": 5,
   "metadata": {},
   "outputs": [
    {
     "name": "stderr",
     "output_type": "stream",
     "text": [
      "2024-05-31 16:48:40.090 \n",
      "  \u001b[33m\u001b[1mWarning:\u001b[0m to view this Streamlit app on a browser, run it with the following\n",
      "  command:\n",
      "\n",
      "    streamlit run /Users/seungwoo/anaconda3/envs/pyserverprog/lib/python3.12/site-packages/ipykernel_launcher.py [ARGUMENTS]\n",
      "2024-05-31 16:48:40.091 Session state does not function when running a script without `streamlit run`\n"
     ]
    }
   ],
   "source": [
    "\n",
    "\n",
    "# 환경 변수 로드\n",
    "load_dotenv()\n",
    "openai = os.getenv(\"OPENAI_API_KEY\")\n",
    "system_prompt = open(\"data/prompt_output.txt\", \"r\").read()\n",
    "\n",
    "# GPT 객체 생성\n",
    "gpt = GPT(api_key=openai, model=\"gpt-4o-2024-05-13\", sys_prompt = system_prompt, top_p=1.0)\n",
    "\n",
    "# Streamlit 앱\n",
    "st.title(\"GPT-4 챗봇\")\n",
    "\n",
    "# 사용자 입력 받기\n",
    "text = st.text_input(\"메시지를 입력하세요:\")\n",
    "\n",
    "if text:\n",
    "    imgs = []\n",
    "    # GPT로부터 응답 생성\n",
    "    answer = gpt.generate(text_prompt = text, \n",
    "                            img_list = imgs,\n",
    "                            audio_list = None\n",
    "                            )\n",
    "    # 응답 출력\n",
    "    st.write(answer)"
   ]
  },
  {
   "cell_type": "code",
   "execution_count": null,
   "metadata": {},
   "outputs": [],
   "source": []
  }
 ],
 "metadata": {
  "kernelspec": {
   "display_name": "pyserverprog",
   "language": "python",
   "name": "python3"
  },
  "language_info": {
   "codemirror_mode": {
    "name": "ipython",
    "version": 3
   },
   "file_extension": ".py",
   "mimetype": "text/x-python",
   "name": "python",
   "nbconvert_exporter": "python",
   "pygments_lexer": "ipython3",
   "version": "3.12.2"
  }
 },
 "nbformat": 4,
 "nbformat_minor": 2
}
