{
 "cells": [
  {
   "cell_type": "code",
   "execution_count": null,
   "metadata": {},
   "outputs": [],
   "source": [
    "import os\n",
    "from glob import glob\n",
    "from langchain_community.document_loaders import PyPDFLoader\n",
    "from langchain.text_splitter import RecursiveCharacterTextSplitter\n",
    "from langchain_openai import OpenAIEmbeddings, ChatOpenAI\n",
    "from langchain.chains import RetrievalQA\n",
    "from langchain_community.vectorstores import Chroma\n",
    "from dotenv import load_dotenv\n",
    "load_dotenv()\n",
    "\n",
    "import textwrap\n",
    "from IPython.display import display\n",
    "from IPython.display import Markdown\n",
    "\n",
    "\n",
    "def to_markdown(text):\n",
    "  text = text.replace('•', '  *')\n",
    "  return Markdown(textwrap.indent(text, '> ', predicate=lambda _: True))\n",
    "\n",
    "# Initialize variables\n",
    "documents = []\n",
    "OPENAI_API_KEY = os.getenv(\"OPENAI_API_KEY\")\n",
    "# Define the directory containing the PDF files\n",
    "pdf_directory = './data'"
   ]
  },
  {
   "cell_type": "markdown",
   "metadata": {},
   "source": [
    "### KGLS 질문"
   ]
  },
  {
   "cell_type": "markdown",
   "metadata": {},
   "source": [
    "### 논문을 벡터 db에 넣기 (retriever)"
   ]
  },
  {
   "cell_type": "code",
   "execution_count": null,
   "metadata": {},
   "outputs": [],
   "source": [
    "# pdf를 사용해서 pdf(논문)을 모두 로드\n",
    "pdf_files = glob(os.path.join(pdf_directory, '*.pdf'))\n",
    "\n",
    "# Load all PDF files using PyPDFLoader\n",
    "for pdf_file in pdf_files:\n",
    "    loader = PyPDFLoader(pdf_file)\n",
    "    pdf_documents = loader.load()\n",
    "    documents.extend(pdf_documents)\n",
    "    \n",
    "# 텍스트는 RecursiveCharacterTextSplitter를 사용하여 분할\n",
    "chunk_splitter = RecursiveCharacterTextSplitter(chunk_size=1000, chunk_overlap=200)\n",
    "chunks = chunk_splitter.split_documents(documents)\n",
    "\n",
    "# embeddings은 OpenAI의 임베딩을 사용\n",
    "# vectordb는 chromadb사용함\n",
    "\n",
    "embeddings = OpenAIEmbeddings(api_key=OPENAI_API_KEY)\n",
    "vectordb = Chroma.from_documents(documents=chunks, embedding=embeddings)\n",
    "retriever = vectordb.as_retriever()"
   ]
  },
  {
   "cell_type": "markdown",
   "metadata": {},
   "source": [
    "### 설문지(KGLS 답변 + 인적정보)"
   ]
  },
  {
   "cell_type": "markdown",
   "metadata": {},
   "source": [
    "#### 인적정보 가져오기(kgls_dummy.json format)폐기"
   ]
  },
  {
   "cell_type": "code",
   "execution_count": null,
   "metadata": {},
   "outputs": [],
   "source": [
    "import json\n",
    "#age - 1 : 65-74세 / 2 : 75-84세 / 3 : 85세 이상\n",
    "class User:\n",
    "    def __init__(self, info_dir):\n",
    "        # Read the JSON file\n",
    "        with open(info_dir, 'r') as file:\n",
    "            data = json.load(file)\n",
    "        self.name = data['name']\n",
    "        self.phone = data['phone']\n",
    "        self.age = data['age']\n",
    "        self.gender = data['gender']\n",
    "        self.education = data['education']\n",
    "        self.merry = data['merry']\n",
    "        self.children = data['children']\n",
    "        self.religion = data['religion']\n",
    "        self.income = data['income']\n",
    "        self.economy_states = data['economy_states']\n",
    "        self.health_states = data['health_states']\n",
    "        \n",
    "# Specify the path to the JSON file\n",
    "info_dir = 'data/user_info.json'\n",
    "user = User(info_dir)\n",
    "print(user.name)"
   ]
  },
  {
   "cell_type": "markdown",
   "metadata": {},
   "source": [
    "#### KGLS 질문/답변 가져오기"
   ]
  },
  {
   "cell_type": "code",
   "execution_count": null,
   "metadata": {},
   "outputs": [],
   "source": [
    "import json\n",
    "import os\n",
    "\n",
    "class KGLSData:\n",
    "    def __init__(self, file_path):\n",
    "        # 각 파일의 데이터를 초기화합니다.\n",
    "        with open(file_path, 'r', encoding='utf-8') as file:\n",
    "            data = json.load(file)\n",
    "        self.kgls = data['object_data']\n",
    "        self.personal_info = data['personal_information']\n",
    "        self.subjective_questions = data['subjective_questions']\n",
    "        self.set_reversed_questions()\n",
    "        self.QA_form=self.get_user_QA_form()\n",
    "\n",
    "    #q_num에 해당하는 문항\n",
    "    def get_question(self, q_num):\n",
    "        for item in self.kgls:\n",
    "            if item['q_num'] == q_num:\n",
    "                return item['question']\n",
    "        return None\n",
    "    #q_num에 해당하는 점수\n",
    "    def get_user_choice(self, q_num):\n",
    "        for item in self.kgls:\n",
    "            if item['q_num'] == q_num:\n",
    "                return item['user_choose']\n",
    "        return None\n",
    "    #역문항 처리함수\n",
    "    def set_reversed_questions(self):\n",
    "        #역문항 q_num : 1, 2, 4, 6, 7, 9, 10, 11, 13, 14\n",
    "        reversed_questions=[1, 2, 4, 6, 7, 9, 10, 11, 13, 14]\n",
    "        for item in self.kgls:\n",
    "            if item['q_num'] in reversed_questions:\n",
    "                item['user_choose']=5-int(item['user_choose'])\n",
    "\n",
    "\n",
    "    def get_all_questions(self):\n",
    "        return [item['question'] for item in self.kgls]\n",
    "    \n",
    "    def get_all_user_choices(self):\n",
    "        return [item['user_choose'] for item in self.kgls]\n",
    "    \n",
    "    def get_all_user_choices_sum(self):\n",
    "        return sum(item['user_choose'] for item in self.kgls)\n",
    "    \n",
    "    def get_family_user_choices_sum(self):\n",
    "        # 가족관계에 관련된 문항의 q_num : 1, 6, 8, 10, 14\n",
    "        family_q_nums = [1, 6, 8, 10, 14]\n",
    "        return sum(item['user_choose'] for item in self.kgls if item['q_num'] in family_q_nums)\n",
    "    \n",
    "    def get_social_user_choices_sum(self):\n",
    "        # 사회적 관계에 관련된 문항의 q_num : 2, 4, 5, 7, 9, 11\n",
    "        social_q_nums = [2, 4, 5, 7, 9, 11]\n",
    "        return sum(item['user_choose'] for item in self.kgls if item['q_num'] in social_q_nums)\n",
    "    \n",
    "    def get_belonging_user_choices_sum(self):\n",
    "        # 소속감 관계에 관련된 문항의 q_num : 3, 12, 13\n",
    "        belonging_q_nums = [3, 12, 13]\n",
    "        return sum(item['user_choose'] for item in self.kgls if item['q_num'] in belonging_q_nums)\n",
    "    \n",
    "    def get_negative_user_choices_sum(self):\n",
    "        negative_q_nums=[1,2,4,6, 7,9, 10, 11, 13, 14]\n",
    "        return sum(item['user_choose'] for item in self.kgls if item['q_num'] in negative_q_nums)\n",
    "\n",
    "    def get_user_QA_form(self):\n",
    "        QA_form=''\n",
    "        for item in self.kgls:\n",
    "            QA_form+=str(item['q_num'])+\" \"+item['question']+\": 이 대화의 점수는 \"+str(item['user_choose'])+ \"점 이며 답변의 결과는 논문을 참고했을 때 낮음/중간/높음 정도이며 ...하고 ..한 결과이다. ...\\\\ \\n\"\n",
    "        return QA_form\n",
    "\n",
    "\n",
    "# 파일 경로 지정\n",
    "directory_path = './data/ipact_personal_main'\n",
    "file_paths = [os.path.join(directory_path, f'data{i}.json') for i in range(1, 11)]\n",
    "\n",
    "# 각 파일의 데이터를 개별적으로 KGLSData 인스턴스로 생성\n",
    "kgls_datasets = [KGLSData(file_path) for file_path in file_paths]\n",
    "\n",
    "# 예시 출력 (첫 번째 데이터셋)\n",
    "kgls_data = kgls_datasets[0]\n",
    "\n",
    "print(kgls_data.get_question(1))       # \"나는 가족들과 매일 대화를 나눈다.\"\n",
    "print(kgls_data.get_user_choice(1))    # 사용자 선택에 해당하는 값\n",
    "print(kgls_data.get_all_questions())   # 모든 질문 리스트 출력\n",
    "print(kgls_data.get_all_user_choices_sum())  # 모든 사용자의 선택 총합\n",
    "print(kgls_data.get_family_user_choices_sum())  # 가족관계 관련 문항의 선택 총합\n",
    "print(kgls_data.get_social_user_choices_sum())  # 사회적 관계 관련 문항의 선택 총합\n",
    "print(kgls_data.get_belonging_user_choices_sum())  # 사회적 관계 관련 문항의 선택 총합\n",
    "print(kgls_data.get_negative_user_choices_sum())\n",
    "# 다른 파일의 데이터셋을 사용하려면 kgls_datasets[index]로 접근하면 됩니다.\n"
   ]
  },
  {
   "cell_type": "code",
   "execution_count": null,
   "metadata": {},
   "outputs": [],
   "source": [
    "print(kgls_data.QA_form)"
   ]
  },
  {
   "cell_type": "markdown",
   "metadata": {},
   "source": [
    "#### 인적정보 가져오기(data0.json)"
   ]
  },
  {
   "cell_type": "code",
   "execution_count": null,
   "metadata": {},
   "outputs": [],
   "source": [
    "\n",
    "class User:\n",
    "    def __init__(self, info):\n",
    "        self.name = info['name']\n",
    "        #self.phone = info['phone']\n",
    "        self.age = info[\"age\"]\n",
    "        self.gender = info['gender']\n",
    "        self.merry = info['merry']\n",
    "        self.living_arrangement=info['living_arrangement']\n",
    "        self.children = info['children']\n",
    "        self.religion = info['religion']\n",
    "        self.economy_states =info['economy_states']\n",
    "        self.health_states = info['health_states']\n",
    "        \n",
    "user = User(kgls_data.personal_info)\n",
    "print(user.name)"
   ]
  },
  {
   "cell_type": "markdown",
   "metadata": {},
   "source": [
    "  \"personal_information\": {\n",
    "    \"name\": \"송희\",\n",
    "    \"phone\": \" \",\n",
    "    \"age\": 2,\n",
    "    \"gender\": \"male\",\n",
    "    \"merry\": 2,\n",
    "    \"living_arrangement\": true,\n",
    "    \"children\": 3,\n",
    "    \"religion\": 0,\n",
    "    \"economy_states\": 0,\n",
    "    \"health_states\": 0\n",
    "  }"
   ]
  },
  {
   "cell_type": "markdown",
   "metadata": {},
   "source": [
    "### 프롬프트"
   ]
  },
  {
   "cell_type": "markdown",
   "metadata": {},
   "source": [
    "#### KGLS 기준"
   ]
  },
  {
   "cell_type": "code",
   "execution_count": null,
   "metadata": {},
   "outputs": [],
   "source": [
    "KGLS=\"\"\"\n",
    "##KGLS 설명\n",
    "본 모델의 의도에 맞게 출력을 위한 기준을 작성한 설명서입니다.\n",
    "[외로움 구분 점수 기준]\n",
    "*본 연구에서 정한 기준입니다.\n",
    "*수치상의 비율로 구분한 점수이니 참고 바랍니다.\n",
    "    14점 ~ 24점: 낮은 외로움\n",
    "    25점 ~ 35점: 중간 정도의 외로움 \n",
    "    36점 ~ 46점: 높은 외로움\n",
    "    47점 ~ 56점: 매우 높은 외로움\n",
    "\n",
    "[KGLS 개별 문항 점수기준]\n",
    "*수치상의 비율로 구분한 점수이니 참고 바랍니다.\n",
    "\n",
    "#본 연구에서 개발된 한국 노인의 외로움 측정도구 점수\n",
    "\n",
    "# 가족관계 외로움 점수\n",
    "- 가족관계 외로움 5문항(1번, 6번, 8번, 10번, 14번)이며 가족관계 외로움의 총점은 5점~20점 사이입니다.\n",
    "5~10점은 낮은, 11~15점은 중간, 16~20점은 높은 외로움으로 말해도 좋습니다.\n",
    "\n",
    "# 사회적 외로움 점수\n",
    "- 사회적 외로움 6문항(2번, 4번, 5번, 7번, 9번, 11번)이며 가족관계 외로움의 총점은 6점~24점 사이입니다.\n",
    "6~12점은 낮은, 13~18점은 중간, 19~24점은 높은 외로움으로 말해도 좋습니다.\n",
    "\n",
    "# 소속감 외로움 점수\n",
    "- 소속감 3문항은(3번, 12번, 13번)이며 소속감에 대한 외로움의 총점은 3점~12점 사이입니다.\n",
    "3~5점은 낮은, 6~9점은 중간, 10~12점은 높은 외로움으로 봐도 괜찮습니다.\n",
    "\n",
    "# 역문항에 관하여\n",
    "- 역문항은 특정 함수를 통해서 역코딩을 합니다. 아래와 같은 방법을 따릅니다.\n",
    " 역문항 역코딩 변환식 :{5-(역문항 점수)}=외로움 점수\n",
    "-KGLS 지표를 기반으로 한 본 연구의 외로움 점수는\n",
    "정문항 점수에 역문항 점수를 더한 값입니다.\n",
    "*자체적으로 세운 역문항 처리 기준입니다.\n",
    "\n",
    "\n",
    "*비율은 낮음/중간/높음에 대하여 동일하게 나누었습니다.\n",
    "[외로움의 정도에 대하여]\n",
    "*수치상의 비율로 구분한 정도이니 참고 바랍니다.\n",
    "외로움이 낮은 정도라는 것은 사용자가 적은 정도의 외로움을 느낀다는 것이며 안정적인 상태에 가까운 것입니다.\n",
    "외로움이 중간 정도라는 것은 사용자가 중간 정도의 외로움을 느낀다는 것이며 안정적인 상태에 중도적인 것입니다.\n",
    "외로움이 높은 정도라는 것은 사용자가 높은 정도의 외로움을 느낀다는 것이며 안정적인 상태에 먼 것입니다.\n",
    "\n",
    "[점수 답변]\n",
    "KGLS 14문항\n",
    "구분\t문항\n",
    "1\t나는 가족들과 매일 대화를 나눈다.\t\n",
    "2\t나는 가깝게 지내는 사람들이 있다.\n",
    "3\t나는 쓸모없는 사람이라고 느껴진다.\n",
    "4\t나를 이해해주는 사람이 있다.\t\n",
    "5\t사람들은 나와 겉으로만 어울리는 것 같다.\n",
    "6\t나는 자녀에게 고민을 이야기할 수 있다.\n",
    "7\t나는 주변 사랑과의 관계가 만족스럽다.\n",
    "8\t가족들은 나를 예전처럼 대해주지 않는다.\n",
    "9\t친구나 이웃들은 나에게 관심을 둔다.\t\n",
    "10\t내가 아플 때 나를 보살펴줄 가족이 있다.\t\n",
    "11\t나는 의지할 친구가 있다.\n",
    "12\t나는 온종일 할 일없이 시간을 보낸다.\n",
    "13\t나는 사회에서 필요한 사람이다.\n",
    "14\t나는 가족에게 의지할 수 있다.\n",
    "\n",
    "\n",
    "\"\"\""
   ]
  },
  {
   "cell_type": "markdown",
   "metadata": {},
   "source": [
    "#### 인적정보 기준"
   ]
  },
  {
   "cell_type": "code",
   "execution_count": null,
   "metadata": {},
   "outputs": [],
   "source": [
    "personal_info=\"\"\"\n",
    "#설문지 인적 정보 양식\n",
    "본 설문지의 인적 정보의 답변 값에 대한 숫자와 값을 일치시켰습니다. 괄호 안의 값을 참고하세요\n",
    "이름(name) : A\n",
    "연령(age) : 0(65-74세) / 1(75-84세) / 2(85세 이상)\n",
    "연락처(phone) : 000-0000-0000\n",
    "성별(gender) : male / female\n",
    "결혼 상태(merry) : 0(미혼) / 1(기혼) / 2(이혼/별거) / 3(사별)\n",
    "거주 형태(living_arrangement) : 0(혼자 거주) / 1(동거)\n",
    "자녀 수 (chlidren) : 0(없음) / 2(1-2명) / 3(3명 이상)\n",
    "종교(religion): 1(있음) / 0(없음)\n",
    "지각된 경제 상태(economy_states): 0(나쁨) / 1(보통) / 2(좋음)\n",
    "지각된 건강 상태(health_states): 0(나쁨) / 1(보통) / 2(좋음)\n",
    "\"\"\"\n",
    "#기존 승우님 코드에서 income은 삭제, 거주 형태가 추가되었습니다, 참고 바랍니다."
   ]
  },
  {
   "cell_type": "markdown",
   "metadata": {},
   "source": [
    "#### 프롬프트"
   ]
  },
  {
   "cell_type": "markdown",
   "metadata": {},
   "source": [
    "##### output_format"
   ]
  },
  {
   "cell_type": "code",
   "execution_count": 18,
   "metadata": {},
   "outputs": [],
   "source": [
    "#출력 양식\n",
    "OUTPUT_FORMAT=f\"\"\"\n",
    "### KGLS 기반 답변 분석 \\\\\n",
    "KGLS 14문항은 4점 척도로 1점~4점 사이의 값으로 사용자의 답변을 받습니다.\\n \\\\\n",
    "최저는 14점, 만점은 56점으로 점수와 외로움의 심한 정도는 비례합니다. \\n \\\\\n",
    "역문항은 1, 2, 4, 6, 7, 9, 10, 11, 13, 14번 문항으로 5-(역문항 점수)= 외로움 점수 로 평가합니다. \\n \\\\\n",
    "\n",
    "#### [점수 산출]\n",
    "    - KGLS 점수: {kgls_data.get_all_user_choices_sum()}점\n",
    "    - 가족관계 외로움: {kgls_data.get_family_user_choices_sum()}점\n",
    "    - 사회적 외로움: {kgls_data.get_social_user_choices_sum()}점\n",
    "    - 소속감에 대한 외로움: {kgls_data.get_belonging_user_choices_sum()}점\n",
    "\n",
    "#### [분석 결과]\n",
    "- A 님의 KGLS 점수는 00점입니다.\\\\\n",
    "- 가족관계 외로움은 ..., ...한 특징을 가지고 있으며, 사용자의 경우 ...한 경험으로 인해 나타납니다..\\\\\n",
    "  사용자의 가족관계 외로움의 총합은 {kgls_data.get_family_user_choices_sum()}점 입니다. 따라서 ... 수치가 ...기에 ...하며 ...하다고 볼 수 있습니다.  \\\\\n",
    "- 사회적 외로움은 ..., ...한 특징을 가지고 있으며, 사용자의 경우 ...한 경험으로 인해 나타납니다..\\\\\n",
    "  사용자의 사회적 외로움의 총합은  {kgls_data.get_social_user_choices_sum()}점 입니다. 따라서 ... 수치가 ...기에 ...하며 ...하다고 볼 수 있습니다.  \\\\\n",
    "- 소속감에 대한 외로움은 ..., ...한 특징을 가지고 있으며, 사용자의 경우 ...한 경험으로 인해 나타납니다..\\\\\n",
    "  사용자의 소속감에 대한 외로움의 총합은 {kgls_data.get_belonging_user_choices_sum()}점 입니다 따라서 ... 수치가 ...기에 ...하며 ...하다고 볼 수 있습니다.  \\\\\n",
    "  \n",
    "#### [분석에 대한 판단 근거]\n",
    "    - 가족관계 외로움 분석: 가족과의 상호작용 부족, 자녀와의 대화 부족, 가족의 보살핌 부족, ... 등의 경험으로 인해 가족관계 외로움이 낮음/중간/높음 정도입니다.\\\\\n",
    "    - 사회적 외로움 분석: 사회적 관계의 부족/주변 사람들과의 관계 만족도 부족/친구나 이웃의 관심 부족 등의 경험으로 인해 사회적 외로움이 낮음/중간/높음 정도입니다.\\\\\n",
    "    - 소속감 외로움 분석: 사회적 역할의 부족/쓸모없다고 느끼는 경험/온종일 할 일 없이 시간을 보내는 경험으로 인해 소속감에 대한 외로움이 낮음/중간/높음 정도입니다.\\\\\n",
    "\n",
    "#### [KGLS 14 문항에 대한 외로움의 분석 결과] \\\\\n",
    "{kgls_data.QA_form}\n",
    "\n",
    "#### [각 문항에 따른 판단 근거]   \\\\\n",
    "    - ...\\\\\n",
    "    - ...\\\\\n",
    "    - ...\\\\\n",
    "#### [대화 상대가 되어주기 위한 조언]\n",
    " 00 님의 외로움을 줄이기 위해서는 다음과 같은 접근이 필요합니다\n",
    "• 가족과의 ... 위해 ...하고 ...합니다.\n",
    "• 사회적 관계를 ... 위해 ...에 참여하도록 권장합니다.\n",
    "• 소속감을 느낄 수 있도록 ...하고 ...합니다.\n",
    "• 경제적, 건강 상태를 ...기 위한 ...을 하고 필요한 경우 ...대해 ... 합니다.\n",
    " \"\"\""
   ]
  },
  {
   "cell_type": "markdown",
   "metadata": {},
   "source": [
    "##### sys_prompt / input_prompt"
   ]
  },
  {
   "cell_type": "code",
   "execution_count": 19,
   "metadata": {},
   "outputs": [],
   "source": [
    "SYS_PROMPT = f\"\"\"\n",
    "    사용자의 인적정보, KGLS 질문과 한국형 외로움에 대한 연구(KGLS 논문)를 바탕으로 어떤 한국형 외로움을 가지고있는지, KGLS 점수를 통해 분석 결과를 도출하고 시스템 프롬프트 설정을 하는 시스템입니다.\\\\\n",
    "    아래의 논문과 정보를 기준으로 답변해주세요. \\\\\n",
    "    \n",
    "    참고\n",
    "    - {personal_info}는 인적정보의 value 값에 대한 변환을 정리하였습니다. 괄호안의 값을 참고하세요. \\\\\n",
    "    - {KGLS}은 좀 더 모델에 특화된 KGLS기반 평가 기준입니다. \\\\\n",
    "    \n",
    "    원하는 답변\n",
    "     사용자의 외로움\n",
    "        - 논문을 바탕으로 사용자의 한국형 외로움에 대해 해석해주세요. \\\\\n",
    "        \n",
    "     사용자가 취약한 외로움\n",
    "        - 사용자가 취약한 외로움에 대해서 알려주세요. 인적사항에 대해 큰 가중치를 부여해주세요. \\\\\n",
    "    \n",
    "\n",
    "    사용자 인적 정보\\\\\n",
    "    - 이름: A\n",
    "    - 나이 : {user.age}\n",
    "    - 성별 : {user.gender}\n",
    "    - 거주 형태 : {user.living_arrangement},\n",
    "    - 결혼 여부 : {user.merry}\n",
    "    - 자녀 수 : {user.children}\n",
    "    - 종교 : {user.religion}, \n",
    "    - 경제 상태 : {user.economy_states}\n",
    "    - 건강 상태 : {user.health_states} \\\\\n",
    "    \n",
    "\"\"\"\n",
    "\n",
    "INPUT_PROMPT = f\"\"\"\n",
    "라고 대답했습니다. \\\\\n",
    "이 사용자가 가지고 있는 한국형 외로움을 설명해주세요. \\\\\n",
    "그리고 어떤 대화 상대가 되어주어야 하는지 출력해주세요. \\\\\n",
    "\"\"\""
   ]
  },
  {
   "cell_type": "markdown",
   "metadata": {},
   "source": [
    "모델 선언"
   ]
  },
  {
   "cell_type": "code",
   "execution_count": 20,
   "metadata": {},
   "outputs": [
    {
     "ename": "KeyError",
     "evalue": "\"Input to ChatPromptTemplate is missing variables {'5-(역문항 점수)'}.  Expected: ['5-(역문항 점수)', 'context', 'question'] Received: ['context', 'question']\"",
     "output_type": "error",
     "traceback": [
      "\u001b[0;31m---------------------------------------------------------------------------\u001b[0m",
      "\u001b[0;31mKeyError\u001b[0m                                  Traceback (most recent call last)",
      "Cell \u001b[0;32mIn[20], line 51\u001b[0m\n\u001b[1;32m     42\u001b[0m input_message \u001b[38;5;241m=\u001b[39m  \u001b[38;5;124mf\u001b[39m\u001b[38;5;124m\"\"\"\u001b[39m\n\u001b[1;32m     43\u001b[0m \u001b[38;5;124mQ: KGLS 답변 결과와 인적사항을 입력해주세요! \u001b[39m\u001b[38;5;130;01m\\\\\u001b[39;00m\n\u001b[1;32m     44\u001b[0m \u001b[38;5;124mA: 네 알겠습니다! 양식은 다음과 같습니다\u001b[39m\n\u001b[0;32m   (...)\u001b[0m\n\u001b[1;32m     47\u001b[0m \u001b[38;5;124m    \u001b[39m\u001b[38;5;132;01m{\u001b[39;00mkgls_data\u001b[38;5;241m.\u001b[39mget_all_user_choices()\u001b[38;5;132;01m}\u001b[39;00m\u001b[38;5;124m 이게 KGLS질문에 대한 사용자의 답변이에요.\u001b[39m\u001b[38;5;130;01m\\\\\u001b[39;00m\u001b[38;5;130;01m\\\\\u001b[39;00m\n\u001b[1;32m     48\u001b[0m \u001b[38;5;124m\"\"\"\u001b[39m \u001b[38;5;241m+\u001b[39m INPUT_PROMPT  \u001b[38;5;66;03m# 추가적인 입력 프롬프트가 이어집니다.\u001b[39;00m\n\u001b[1;32m     50\u001b[0m \u001b[38;5;66;03m# to_markdown() 함수를 호출하여 체인의 결과를 마크다운 형식으로 변환합니다.\u001b[39;00m\n\u001b[0;32m---> 51\u001b[0m output\u001b[38;5;241m=\u001b[39m\u001b[43mrag_chain\u001b[49m\u001b[38;5;241;43m.\u001b[39;49m\u001b[43minvoke\u001b[49m\u001b[43m(\u001b[49m\u001b[43minput_message\u001b[49m\u001b[43m)\u001b[49m\n\u001b[1;32m     52\u001b[0m to_markdown(output)\n",
      "File \u001b[0;32m/opt/anaconda3/envs/ch06_env/lib/python3.9/site-packages/langchain_core/runnables/base.py:2393\u001b[0m, in \u001b[0;36mRunnableSequence.invoke\u001b[0;34m(self, input, config)\u001b[0m\n\u001b[1;32m   2391\u001b[0m \u001b[38;5;28;01mtry\u001b[39;00m:\n\u001b[1;32m   2392\u001b[0m     \u001b[38;5;28;01mfor\u001b[39;00m i, step \u001b[38;5;129;01min\u001b[39;00m \u001b[38;5;28menumerate\u001b[39m(\u001b[38;5;28mself\u001b[39m\u001b[38;5;241m.\u001b[39msteps):\n\u001b[0;32m-> 2393\u001b[0m         \u001b[38;5;28minput\u001b[39m \u001b[38;5;241m=\u001b[39m \u001b[43mstep\u001b[49m\u001b[38;5;241;43m.\u001b[39;49m\u001b[43minvoke\u001b[49m\u001b[43m(\u001b[49m\n\u001b[1;32m   2394\u001b[0m \u001b[43m            \u001b[49m\u001b[38;5;28;43minput\u001b[39;49m\u001b[43m,\u001b[49m\n\u001b[1;32m   2395\u001b[0m \u001b[43m            \u001b[49m\u001b[38;5;66;43;03m# mark each step as a child run\u001b[39;49;00m\n\u001b[1;32m   2396\u001b[0m \u001b[43m            \u001b[49m\u001b[43mpatch_config\u001b[49m\u001b[43m(\u001b[49m\n\u001b[1;32m   2397\u001b[0m \u001b[43m                \u001b[49m\u001b[43mconfig\u001b[49m\u001b[43m,\u001b[49m\u001b[43m \u001b[49m\u001b[43mcallbacks\u001b[49m\u001b[38;5;241;43m=\u001b[39;49m\u001b[43mrun_manager\u001b[49m\u001b[38;5;241;43m.\u001b[39;49m\u001b[43mget_child\u001b[49m\u001b[43m(\u001b[49m\u001b[38;5;124;43mf\u001b[39;49m\u001b[38;5;124;43m\"\u001b[39;49m\u001b[38;5;124;43mseq:step:\u001b[39;49m\u001b[38;5;132;43;01m{\u001b[39;49;00m\u001b[43mi\u001b[49m\u001b[38;5;241;43m+\u001b[39;49m\u001b[38;5;241;43m1\u001b[39;49m\u001b[38;5;132;43;01m}\u001b[39;49;00m\u001b[38;5;124;43m\"\u001b[39;49m\u001b[43m)\u001b[49m\n\u001b[1;32m   2398\u001b[0m \u001b[43m            \u001b[49m\u001b[43m)\u001b[49m\u001b[43m,\u001b[49m\n\u001b[1;32m   2399\u001b[0m \u001b[43m        \u001b[49m\u001b[43m)\u001b[49m\n\u001b[1;32m   2400\u001b[0m \u001b[38;5;66;03m# finish the root run\u001b[39;00m\n\u001b[1;32m   2401\u001b[0m \u001b[38;5;28;01mexcept\u001b[39;00m \u001b[38;5;167;01mBaseException\u001b[39;00m \u001b[38;5;28;01mas\u001b[39;00m e:\n",
      "File \u001b[0;32m/opt/anaconda3/envs/ch06_env/lib/python3.9/site-packages/langchain_core/prompts/base.py:128\u001b[0m, in \u001b[0;36mBasePromptTemplate.invoke\u001b[0;34m(self, input, config)\u001b[0m\n\u001b[1;32m    126\u001b[0m \u001b[38;5;28;01mif\u001b[39;00m \u001b[38;5;28mself\u001b[39m\u001b[38;5;241m.\u001b[39mtags:\n\u001b[1;32m    127\u001b[0m     config[\u001b[38;5;124m\"\u001b[39m\u001b[38;5;124mtags\u001b[39m\u001b[38;5;124m\"\u001b[39m] \u001b[38;5;241m=\u001b[39m config[\u001b[38;5;124m\"\u001b[39m\u001b[38;5;124mtags\u001b[39m\u001b[38;5;124m\"\u001b[39m] \u001b[38;5;241m+\u001b[39m \u001b[38;5;28mself\u001b[39m\u001b[38;5;241m.\u001b[39mtags\n\u001b[0;32m--> 128\u001b[0m \u001b[38;5;28;01mreturn\u001b[39;00m \u001b[38;5;28;43mself\u001b[39;49m\u001b[38;5;241;43m.\u001b[39;49m\u001b[43m_call_with_config\u001b[49m\u001b[43m(\u001b[49m\n\u001b[1;32m    129\u001b[0m \u001b[43m    \u001b[49m\u001b[38;5;28;43mself\u001b[39;49m\u001b[38;5;241;43m.\u001b[39;49m\u001b[43m_format_prompt_with_error_handling\u001b[49m\u001b[43m,\u001b[49m\n\u001b[1;32m    130\u001b[0m \u001b[43m    \u001b[49m\u001b[38;5;28;43minput\u001b[39;49m\u001b[43m,\u001b[49m\n\u001b[1;32m    131\u001b[0m \u001b[43m    \u001b[49m\u001b[43mconfig\u001b[49m\u001b[43m,\u001b[49m\n\u001b[1;32m    132\u001b[0m \u001b[43m    \u001b[49m\u001b[43mrun_type\u001b[49m\u001b[38;5;241;43m=\u001b[39;49m\u001b[38;5;124;43m\"\u001b[39;49m\u001b[38;5;124;43mprompt\u001b[39;49m\u001b[38;5;124;43m\"\u001b[39;49m\u001b[43m,\u001b[49m\n\u001b[1;32m    133\u001b[0m \u001b[43m\u001b[49m\u001b[43m)\u001b[49m\n",
      "File \u001b[0;32m/opt/anaconda3/envs/ch06_env/lib/python3.9/site-packages/langchain_core/runnables/base.py:1503\u001b[0m, in \u001b[0;36mRunnable._call_with_config\u001b[0;34m(self, func, input, config, run_type, **kwargs)\u001b[0m\n\u001b[1;32m   1499\u001b[0m     context \u001b[38;5;241m=\u001b[39m copy_context()\n\u001b[1;32m   1500\u001b[0m     context\u001b[38;5;241m.\u001b[39mrun(var_child_runnable_config\u001b[38;5;241m.\u001b[39mset, child_config)\n\u001b[1;32m   1501\u001b[0m     output \u001b[38;5;241m=\u001b[39m cast(\n\u001b[1;32m   1502\u001b[0m         Output,\n\u001b[0;32m-> 1503\u001b[0m         \u001b[43mcontext\u001b[49m\u001b[38;5;241;43m.\u001b[39;49m\u001b[43mrun\u001b[49m\u001b[43m(\u001b[49m\n\u001b[1;32m   1504\u001b[0m \u001b[43m            \u001b[49m\u001b[43mcall_func_with_variable_args\u001b[49m\u001b[43m,\u001b[49m\u001b[43m  \u001b[49m\u001b[38;5;66;43;03m# type: ignore[arg-type]\u001b[39;49;00m\n\u001b[1;32m   1505\u001b[0m \u001b[43m            \u001b[49m\u001b[43mfunc\u001b[49m\u001b[43m,\u001b[49m\u001b[43m  \u001b[49m\u001b[38;5;66;43;03m# type: ignore[arg-type]\u001b[39;49;00m\n\u001b[1;32m   1506\u001b[0m \u001b[43m            \u001b[49m\u001b[38;5;28;43minput\u001b[39;49m\u001b[43m,\u001b[49m\u001b[43m  \u001b[49m\u001b[38;5;66;43;03m# type: ignore[arg-type]\u001b[39;49;00m\n\u001b[1;32m   1507\u001b[0m \u001b[43m            \u001b[49m\u001b[43mconfig\u001b[49m\u001b[43m,\u001b[49m\n\u001b[1;32m   1508\u001b[0m \u001b[43m            \u001b[49m\u001b[43mrun_manager\u001b[49m\u001b[43m,\u001b[49m\n\u001b[1;32m   1509\u001b[0m \u001b[43m            \u001b[49m\u001b[38;5;241;43m*\u001b[39;49m\u001b[38;5;241;43m*\u001b[39;49m\u001b[43mkwargs\u001b[49m\u001b[43m,\u001b[49m\n\u001b[1;32m   1510\u001b[0m \u001b[43m        \u001b[49m\u001b[43m)\u001b[49m,\n\u001b[1;32m   1511\u001b[0m     )\n\u001b[1;32m   1512\u001b[0m \u001b[38;5;28;01mexcept\u001b[39;00m \u001b[38;5;167;01mBaseException\u001b[39;00m \u001b[38;5;28;01mas\u001b[39;00m e:\n\u001b[1;32m   1513\u001b[0m     run_manager\u001b[38;5;241m.\u001b[39mon_chain_error(e)\n",
      "File \u001b[0;32m/opt/anaconda3/envs/ch06_env/lib/python3.9/site-packages/langchain_core/runnables/config.py:346\u001b[0m, in \u001b[0;36mcall_func_with_variable_args\u001b[0;34m(func, input, config, run_manager, **kwargs)\u001b[0m\n\u001b[1;32m    344\u001b[0m \u001b[38;5;28;01mif\u001b[39;00m run_manager \u001b[38;5;129;01mis\u001b[39;00m \u001b[38;5;129;01mnot\u001b[39;00m \u001b[38;5;28;01mNone\u001b[39;00m \u001b[38;5;129;01mand\u001b[39;00m accepts_run_manager(func):\n\u001b[1;32m    345\u001b[0m     kwargs[\u001b[38;5;124m\"\u001b[39m\u001b[38;5;124mrun_manager\u001b[39m\u001b[38;5;124m\"\u001b[39m] \u001b[38;5;241m=\u001b[39m run_manager\n\u001b[0;32m--> 346\u001b[0m \u001b[38;5;28;01mreturn\u001b[39;00m \u001b[43mfunc\u001b[49m\u001b[43m(\u001b[49m\u001b[38;5;28;43minput\u001b[39;49m\u001b[43m,\u001b[49m\u001b[43m \u001b[49m\u001b[38;5;241;43m*\u001b[39;49m\u001b[38;5;241;43m*\u001b[39;49m\u001b[43mkwargs\u001b[49m\u001b[43m)\u001b[49m\n",
      "File \u001b[0;32m/opt/anaconda3/envs/ch06_env/lib/python3.9/site-packages/langchain_core/prompts/base.py:111\u001b[0m, in \u001b[0;36mBasePromptTemplate._format_prompt_with_error_handling\u001b[0;34m(self, inner_input)\u001b[0m\n\u001b[1;32m    110\u001b[0m \u001b[38;5;28;01mdef\u001b[39;00m \u001b[38;5;21m_format_prompt_with_error_handling\u001b[39m(\u001b[38;5;28mself\u001b[39m, inner_input: Dict) \u001b[38;5;241m-\u001b[39m\u001b[38;5;241m>\u001b[39m PromptValue:\n\u001b[0;32m--> 111\u001b[0m     _inner_input \u001b[38;5;241m=\u001b[39m \u001b[38;5;28;43mself\u001b[39;49m\u001b[38;5;241;43m.\u001b[39;49m\u001b[43m_validate_input\u001b[49m\u001b[43m(\u001b[49m\u001b[43minner_input\u001b[49m\u001b[43m)\u001b[49m\n\u001b[1;32m    112\u001b[0m     \u001b[38;5;28;01mreturn\u001b[39;00m \u001b[38;5;28mself\u001b[39m\u001b[38;5;241m.\u001b[39mformat_prompt(\u001b[38;5;241m*\u001b[39m\u001b[38;5;241m*\u001b[39m_inner_input)\n",
      "File \u001b[0;32m/opt/anaconda3/envs/ch06_env/lib/python3.9/site-packages/langchain_core/prompts/base.py:103\u001b[0m, in \u001b[0;36mBasePromptTemplate._validate_input\u001b[0;34m(self, inner_input)\u001b[0m\n\u001b[1;32m    101\u001b[0m missing \u001b[38;5;241m=\u001b[39m \u001b[38;5;28mset\u001b[39m(\u001b[38;5;28mself\u001b[39m\u001b[38;5;241m.\u001b[39minput_variables)\u001b[38;5;241m.\u001b[39mdifference(inner_input)\n\u001b[1;32m    102\u001b[0m \u001b[38;5;28;01mif\u001b[39;00m missing:\n\u001b[0;32m--> 103\u001b[0m     \u001b[38;5;28;01mraise\u001b[39;00m \u001b[38;5;167;01mKeyError\u001b[39;00m(\n\u001b[1;32m    104\u001b[0m         \u001b[38;5;124mf\u001b[39m\u001b[38;5;124m\"\u001b[39m\u001b[38;5;124mInput to \u001b[39m\u001b[38;5;132;01m{\u001b[39;00m\u001b[38;5;28mself\u001b[39m\u001b[38;5;241m.\u001b[39m\u001b[38;5;18m__class__\u001b[39m\u001b[38;5;241m.\u001b[39m\u001b[38;5;18m__name__\u001b[39m\u001b[38;5;132;01m}\u001b[39;00m\u001b[38;5;124m is missing variables \u001b[39m\u001b[38;5;132;01m{\u001b[39;00mmissing\u001b[38;5;132;01m}\u001b[39;00m\u001b[38;5;124m. \u001b[39m\u001b[38;5;124m\"\u001b[39m\n\u001b[1;32m    105\u001b[0m         \u001b[38;5;124mf\u001b[39m\u001b[38;5;124m\"\u001b[39m\u001b[38;5;124m Expected: \u001b[39m\u001b[38;5;132;01m{\u001b[39;00m\u001b[38;5;28mself\u001b[39m\u001b[38;5;241m.\u001b[39minput_variables\u001b[38;5;132;01m}\u001b[39;00m\u001b[38;5;124m\"\u001b[39m\n\u001b[1;32m    106\u001b[0m         \u001b[38;5;124mf\u001b[39m\u001b[38;5;124m\"\u001b[39m\u001b[38;5;124m Received: \u001b[39m\u001b[38;5;132;01m{\u001b[39;00m\u001b[38;5;28mlist\u001b[39m(inner_input\u001b[38;5;241m.\u001b[39mkeys())\u001b[38;5;132;01m}\u001b[39;00m\u001b[38;5;124m\"\u001b[39m\n\u001b[1;32m    107\u001b[0m     )\n\u001b[1;32m    108\u001b[0m \u001b[38;5;28;01mreturn\u001b[39;00m inner_input\n",
      "\u001b[0;31mKeyError\u001b[0m: \"Input to ChatPromptTemplate is missing variables {'5-(역문항 점수)'}.  Expected: ['5-(역문항 점수)', 'context', 'question'] Received: ['context', 'question']\""
     ]
    }
   ],
   "source": [
    "# 필요한 라이브러리 및 모듈을 임포트합니다.\n",
    "from langchain_openai import ChatOpenAI\n",
    "from langchain_core.prompts import ChatPromptTemplate\n",
    "from langchain_core.runnables import RunnablePassthrough\n",
    "from langchain_core.output_parsers import StrOutputParser\n",
    "\n",
    "# 프롬프트 템플릿을 정의합니다.\n",
    "# SYS_PROMPT는 시스템 메시지로, 템플릿에 포함됩니다. \n",
    "# {context}와 {question}은 실행 시 동적으로 채워질 자리표시자입니다.\n",
    "template = SYS_PROMPT + '''\n",
    "3.외로움 파악을 위한 KGLS 객관식 14문항과 사용자가 입력한 답변={question} \\\\\n",
    "4. 한국형 노인 외로움의 지표인 KGLS={context}\\\\\n",
    "\n",
    "출력은 앞서 입력된 내용을 바탕으로 출력해야합니다. 특히 분석 결과는 3,4번 항목을 참고하여 충분히 설명해야만 합니다.\n",
    "출력 예시:\n",
    "'''+OUTPUT_FORMAT\n",
    "     \n",
    "\n",
    "# ChatPromptTemplate.from_template() 메서드를 사용하여 프롬프트 템플릿을 생성합니다.\n",
    "prompt = ChatPromptTemplate.from_template(template)\n",
    "\n",
    "# ChatOpenAI 인스턴스를 생성하여 LLM (대규모 언어 모델)을 설정합니다.\n",
    "# 여기서는 'gpt-4o' 모델을 사용하고, temperature는 0으로 설정하여 출력의 일관성을 높입니다.\n",
    "model = ChatOpenAI(model='gpt-4o', temperature=0)\n",
    "\n",
    "# 문서들을 형식화하는 함수를 정의합니다.\n",
    "# 각 문서의 페이지 내용을 합쳐 하나의 문자열로 반환합니다.\n",
    "def format_docs(docs):\n",
    "    return '\\n\\n'.join(doc.page_content for doc in docs)\n",
    "\n",
    "# RAG (Retrieval-Augmented Generation) 체인을 연결합니다.\n",
    "# 이 체인은 문서 검색, 형식화, 프롬프트 적용, 모델 호출, 출력 파싱의 과정을 거칩니다.\n",
    "rag_chain = (\n",
    "    {'context': retriever | format_docs, 'question': RunnablePassthrough()}  # 'context'는 retriever와 format_docs를 통해 설정되고, 'question'은 그대로 전달됩니다.\n",
    "    | prompt  # 프롬프트 템플릿을 적용합니다.\n",
    "    | model  # 모델을 호출합니다.\n",
    "    | StrOutputParser()  # 출력 파서를 통해 모델의 출력을 문자열로 변환합니다.\n",
    ")\n",
    "\n",
    "# 체인을 실행합니다.\n",
    "# 입력 메시지는 질문과 답변 형식의 텍스트입니다.\n",
    "input_message =  f\"\"\"\n",
    "Q: KGLS 답변 결과와 인적사항을 입력해주세요! \\\\\n",
    "A: 네 알겠습니다! 양식은 다음과 같습니다\n",
    "    KGLS data format\\\\\n",
    "    {kgls_data.get_all_questions()} 이게 KGLS질문이에요.\\\\\n",
    "    {kgls_data.get_all_user_choices()} 이게 KGLS질문에 대한 사용자의 답변이에요.\\\\\\\\\n",
    "\"\"\" + INPUT_PROMPT  # 추가적인 입력 프롬프트가 이어집니다.\n",
    "\n",
    "# to_markdown() 함수를 호출하여 체인의 결과를 마크다운 형식으로 변환합니다.\n",
    "output=rag_chain.invoke(input_message)\n",
    "to_markdown(output)\n"
   ]
  },
  {
   "cell_type": "markdown",
   "metadata": {},
   "source": [
    "### txt 형태로 내보내기"
   ]
  },
  {
   "cell_type": "code",
   "execution_count": null,
   "metadata": {},
   "outputs": [],
   "source": [
    "import re\n",
    "# 예시 출력 양식\n",
    "\n",
    "with open('data/kgls_output.txt', 'w') as file:\n",
    "    file.write(output)"
   ]
  },
  {
   "cell_type": "code",
   "execution_count": null,
   "metadata": {},
   "outputs": [],
   "source": []
  },
  {
   "cell_type": "code",
   "execution_count": null,
   "metadata": {},
   "outputs": [],
   "source": []
  }
 ],
 "metadata": {
  "kernelspec": {
   "display_name": "aiservice",
   "language": "python",
   "name": "python3"
  },
  "language_info": {
   "codemirror_mode": {
    "name": "ipython",
    "version": 3
   },
   "file_extension": ".py",
   "mimetype": "text/x-python",
   "name": "python",
   "nbconvert_exporter": "python",
   "pygments_lexer": "ipython3",
   "version": "3.9.19"
  }
 },
 "nbformat": 4,
 "nbformat_minor": 2
}
