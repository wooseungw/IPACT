{
 "cells": [
  {
   "cell_type": "code",
   "execution_count": 2,
   "metadata": {},
   "outputs": [],
   "source": [
    "import os\n",
    "from glob import glob\n",
    "from langchain_community.document_loaders import PyPDFLoader\n",
    "from langchain.text_splitter import RecursiveCharacterTextSplitter\n",
    "from langchain_openai import OpenAIEmbeddings, ChatOpenAI\n",
    "from langchain.chains import RetrievalQA\n",
    "from langchain_community.vectorstores import Chroma\n",
    "from dotenv import load_dotenv\n",
    "load_dotenv()\n",
    "\n",
    "import textwrap\n",
    "from IPython.display import display\n",
    "from IPython.display import Markdown\n",
    "\n",
    "\n",
    "def to_markdown(text):\n",
    "  text = text.replace('•', '  *')\n",
    "  return Markdown(textwrap.indent(text, '> ', predicate=lambda _: True))\n",
    "\n",
    "# Initialize variables\n",
    "documents = []\n",
    "OPENAI_API_KEY = os.getenv(\"OPENAI_API_KEY\")\n",
    "# Define the directory containing the PDF files\n",
    "pdf_directory = './data'"
   ]
  },
  {
   "cell_type": "markdown",
   "metadata": {},
   "source": [
    "### 논문을 벡터 db에 넣기"
   ]
  },
  {
   "cell_type": "code",
   "execution_count": 3,
   "metadata": {},
   "outputs": [],
   "source": [
    "# pdf를 사용해서 pdf(논문)을 모두 로드\n",
    "pdf_files = glob(os.path.join(pdf_directory, '*.pdf'))\n",
    "\n",
    "# Load all PDF files using PyPDFLoader\n",
    "for pdf_file in pdf_files:\n",
    "    loader = PyPDFLoader(pdf_file)\n",
    "    pdf_documents = loader.load()\n",
    "    documents.extend(pdf_documents)\n",
    "    \n",
    "# 텍스트는 RecursiveCharacterTextSplitter를 사용하여 분할\n",
    "chunk_splitter = RecursiveCharacterTextSplitter(chunk_size=1000, chunk_overlap=200)\n",
    "chunks = chunk_splitter.split_documents(documents)\n",
    "\n",
    "# embeddings은 OpenAI의 임베딩을 사용\n",
    "# vectordb는 chromadb사용함\n",
    "\n",
    "embeddings = OpenAIEmbeddings(api_key=OPENAI_API_KEY)\n",
    "vectordb = Chroma.from_documents(documents=chunks, embedding=embeddings)\n",
    "retriever = vectordb.as_retriever()"
   ]
  },
  {
   "cell_type": "markdown",
   "metadata": {},
   "source": [
    "### 인적정보 가져오기"
   ]
  },
  {
   "cell_type": "code",
   "execution_count": 4,
   "metadata": {},
   "outputs": [
    {
     "name": "stdout",
     "output_type": "stream",
     "text": [
      "김영수\n"
     ]
    }
   ],
   "source": [
    "import json\n",
    "\n",
    "class User:\n",
    "    def __init__(self, info_dir):\n",
    "        # Read the JSON file\n",
    "        with open(info_dir, 'r') as file:\n",
    "            data = json.load(file)\n",
    "        self.name = data['name']\n",
    "        self.phone = data['phone']\n",
    "        self.age = data['age']\n",
    "        self.gender = data['gender']\n",
    "        self.education = data['education']\n",
    "        self.merry = data['merry']\n",
    "        self.children = data['children']\n",
    "        self.religion = data['religion']\n",
    "        self.income = data['income']\n",
    "        self.economy_states = data['economy_states']\n",
    "        self.health_states = data['health_states']\n",
    "        \n",
    "# Specify the path to the JSON file\n",
    "info_dir = 'data/user_info.json'\n",
    "user = User(info_dir)\n",
    "print(user.name)"
   ]
  },
  {
   "cell_type": "markdown",
   "metadata": {},
   "source": [
    "### KGLS 질문/답변 가져오기"
   ]
  },
  {
   "cell_type": "code",
   "execution_count": 14,
   "metadata": {},
   "outputs": [
    {
     "name": "stdout",
     "output_type": "stream",
     "text": [
      "나는 가족들과 매일 대화를 나눈다.\n",
      "3\n",
      "['나는 가족들과 매일 대화를 나눈다.', '나는 가깝게 지내는 사람들이 있다.', '나는 쓸모없는 사람이라고 느껴진다.', '나를 이해해주는 사람이 있다.', '사람들은 나와 겉으로만 어울리는 것 같다.', '나는 자녀에게 고민을 이야기할 수 있다.', '나는 주변 사랑과의 관계가 만족스럽다.', '가족들은 나를 예전처럼 대해주지 않는다.', '친구나 이웃들은 나에게 관심을 둔다.', '내가 아플 때 나를 보살펴줄 가족이 있다.', '나는 의지할 친구가 있다.', '나는 온종일 할 일없이 시간을 보낸다.', '나는 사회에서 필요한 사람이다.', '나는 가족에게 의지할 수 있다.']\n"
     ]
    }
   ],
   "source": [
    "import json\n",
    "\n",
    "class KGLSData:\n",
    "    def __init__(self, file_path):\n",
    "        # JSON 파일 읽기\n",
    "        with open(file_path, 'r', encoding='utf-8') as file:\n",
    "            data = json.load(file)\n",
    "        self.kgls = data['KGLS']\n",
    "        \n",
    "    def get_question(self, q_num):\n",
    "        for item in self.kgls:\n",
    "            if item['q_num'] == q_num:\n",
    "                return item['question']\n",
    "        return None\n",
    "    \n",
    "    def get_user_choice(self, q_num):\n",
    "        for item in self.kgls:\n",
    "            if item['q_num'] == q_num:\n",
    "                return item['user_choose']\n",
    "        return None\n",
    "    \n",
    "    def get_all_questions(self):\n",
    "        return [item['question'] for item in self.kgls]\n",
    "    def get_all_user_choices(self):\n",
    "        return [item['user_choose'] for item in self.kgls]\n",
    "    def get_all_user_choices_sum(self):\n",
    "        return sum([item['user_choose'] for item in self.kgls])\n",
    "\n",
    "\n",
    "# 파일 경로 지정\n",
    "file_path = './data/kgls_dummy.json'\n",
    "kgls_data = KGLSData(file_path)\n",
    "\n",
    "# 예시 출력\n",
    "print(kgls_data.get_question(1))       # \"나는 가족들과 매일 대화를 나눈다.\"\n",
    "print(kgls_data.get_user_choice(1))    # 3\n",
    "print(kgls_data.get_all_questions())   # 모든 질문 리스트 출력\n"
   ]
  },
  {
   "cell_type": "markdown",
   "metadata": {},
   "source": [
    "### 프롬프트"
   ]
  },
  {
   "cell_type": "code",
   "execution_count": 59,
   "metadata": {},
   "outputs": [],
   "source": [
    "OUTPUT_FORMAT=f\"\"\"\n",
    "###노인 외로움 측정 모델 \\\\\n",
    "KGLS 14문항은 likert 4점 척도로 1점~4점 사이의 값으로 사용자의 답변을 받습니다.\\n \\\\\n",
    "KGLS 14문항 점수 : {kgls_data.get_all_user_choices_sum()}점 \\n\\\\\n",
    "{user.name}님은 {kgls_data.get_all_user_choices_sum()} 점으로 아래의 기준에 따라 ~~한 외로움을 가지고 있습니다 \\n \\\\\n",
    "###외로움 구분 점수 기준 \\\\\n",
    "14점 ~ 24점: 매우 높은 외로움 \\n\\\\\n",
    "25점 ~ 35점: 높은 외로움 \\n \\\\\n",
    "36점 ~ 46점: 중간 정도의 외로움\\n \\\\\n",
    "47점 ~ 56점: 낮은 외로움\\n \\\\\n",
    "\"\"\""
   ]
  },
  {
   "cell_type": "code",
   "execution_count": 65,
   "metadata": {},
   "outputs": [],
   "source": [
    "SYS_PROMPT = f\"\"\"\n",
    "    사용자의 인적정보, KGLS 질문과 한국형 외로움에 대한 연구(KGLS 논문)를 바탕으로 어떤 한국형 외로움을 가지고있는지 설명해주세요.\\\\\n",
    "    답변 서두의 양식은 {OUTPUT_FORMAT}과 같습니다. \\\\\n",
    "    ### 사용자의 외로움\n",
    "    그 뒤에는 논문을 바탕으로 사용자의 한국형 외로움에 대해 해석해주세요. \\\\\n",
    "    ### 사용자가 취약한 외로움\n",
    "    사용자가 취약한 외로움에 대해서 알려주세요. 인적사항에 대해 큰 가중치를 부여해주세요.   \\\\\n",
    "    ### 해결방안\n",
    "    사용자가 할 수 있는 해결방안을 해당 논문들을 참고하여 답변해주세요. \\\\\n",
    "    KGLS data format\\\\\n",
    "    {kgls_data.get_all_questions()} 이게 KGLS질문이에요.\\\\\n",
    "    {kgls_data.get_all_user_choices()} 이게 KGLS질문에 대한 사용자의 답변이에요.\\\\\n",
    "    사용자 인적 정보\\\\\n",
    "    사용자의 이름은 {user.name}, 나이는 {user.age}, 성별은 {user.gender}, 학력은 {user.education}, 결혼 여부는 {user.merry}, 자녀 수는 {user.children}, 종교는 {user.religion}, 소득은 {user.income}, 경제 상태는 {user.economy_states}, 건강 상태는 {user.health_states}입니다. \\\\\n",
    "    \n",
    "\"\"\"\n",
    "\n",
    "INPUT_PROMPT = f\"\"\"\n",
    "라고 대답했습니다. \\\\\n",
    "이 사용자가 가지고 있는 한국형 외로움을 설명해주세요. \\\\\n",
    "그리고 어떤 대화 상대가 되어주어야 하는지 출력해주세요. \\\\\n",
    "\"\"\""
   ]
  },
  {
   "cell_type": "markdown",
   "metadata": {},
   "source": [
    "모델 선언"
   ]
  },
  {
   "cell_type": "code",
   "execution_count": 66,
   "metadata": {},
   "outputs": [
    {
     "data": {
      "text/markdown": [
       "> ### 노인 외로움 측정 모델\n",
       "> KGLS 14문항은 likert 4점 척도로 1점~4점 사이의 값으로 사용자의 답변을 받습니다.\n",
       "> \n",
       "> KGLS 14문항 점수 : 42점\n",
       "> \n",
       "> 김영수님은 42 점으로 아래의 기준에 따라 중간 정도의 외로움을 가지고 있습니다.\n",
       "> \n",
       "> ### 외로움 구분 점수 기준\n",
       "> 14점 ~ 24점: 매우 높은 외로움\n",
       "> \n",
       "> 25점 ~ 35점: 높은 외로움\n",
       "> \n",
       "> 36점 ~ 46점: 중간 정도의 외로움\n",
       "> \n",
       "> 47점 ~ 56점: 낮은 외로움\n",
       "> \n",
       "> ### 사용자의 외로움\n",
       "> 김영수님은 65세의 남성으로, 고등학교를 졸업하였으며 결혼하여 자녀가 한 명 있습니다. 종교가 있으며, 소득은 100,000원으로 경제 상태는 보통이지만 건강 상태는 좋지 않습니다. 이러한 인적 사항을 바탕으로 볼 때, 김영수님의 외로움은 주로 건강 상태와 관련이 있을 가능성이 큽니다. 건강이 좋지 않으면 사회적 활동이 제한되고, 이는 외로움을 증가시킬 수 있습니다.\n",
       "> \n",
       "> ### 사용자가 취약한 외로움\n",
       "> 김영수님은 건강 상태가 좋지 않기 때문에 신체적 활동이 제한될 수 있으며, 이는 사회적 고립을 초래할 수 있습니다. 또한, 경제 상태가 보통이지만 소득이 낮은 편이기 때문에 경제적 스트레스도 외로움을 가중시킬 수 있습니다. 종교가 있는 점은 긍정적이지만, 종교 활동에 참여할 수 있는 기회가 제한될 경우 외로움을 느낄 수 있습니다.\n",
       "> \n",
       "> ### 해결방안\n",
       "> 1. **건강 관리**: 건강 상태가 외로움에 큰 영향을 미치므로, 정기적인 건강 검진과 적절한 치료를 받는 것이 중요합니다. 또한, 가능한 한 신체 활동을 유지하는 것이 좋습니다. 예를 들어, 가벼운 산책이나 스트레칭을 통해 신체적 활동을 유지할 수 있습니다.\n",
       "> \n",
       "> 2. **사회적 활동 참여**: 종교 활동이나 지역 사회의 모임에 적극적으로 참여하는 것이 좋습니다. 이는 사회적 연결을 강화하고 외로움을 줄이는 데 도움이 됩니다.\n",
       "> \n",
       "> 3. **가족과의 소통**: 자녀와의 소통을 늘리고, 가족과의 시간을 더 많이 보내는 것이 중요합니다. 가족과의 정기적인 대화와 만남을 통해 정서적 지지를 받을 수 있습니다.\n",
       "> \n",
       "> 4. **경제적 지원**: 경제적 스트레스를 줄이기 위해 가능한 지원 프로그램을 활용하는 것이 좋습니다. 예를 들어, 정부나 지역 사회에서 제공하는 경제적 지원 프로그램을 찾아보는 것이 도움이 될 수 있습니다.\n",
       "> \n",
       "> 5. **심리적 지원**: 필요하다면 전문가의 도움을 받아 심리적 지원을 받는 것도 고려해볼 만합니다. 상담을 통해 외로움과 관련된 감정을 다루는 데 도움이 될 수 있습니다.\n",
       "> \n",
       "> 이와 같은 방안을 통해 김영수님의 외로움을 줄이고, 더 나은 삶의 질을 유지할 수 있을 것입니다."
      ],
      "text/plain": [
       "<IPython.core.display.Markdown object>"
      ]
     },
     "execution_count": 66,
     "metadata": {},
     "output_type": "execute_result"
    }
   ],
   "source": [
    "# 필요한 라이브러리 및 모듈을 임포트합니다.\n",
    "from langchain_openai import ChatOpenAI\n",
    "from langchain_core.prompts import ChatPromptTemplate\n",
    "from langchain_core.runnables import RunnablePassthrough\n",
    "from langchain_core.output_parsers import StrOutputParser\n",
    "\n",
    "# 프롬프트 템플릿을 정의합니다.\n",
    "# SYS_PROMPT는 시스템 메시지로, 템플릿에 포함됩니다. \n",
    "# {context}와 {question}은 실행 시 동적으로 채워질 자리표시자입니다.\n",
    "template = SYS_PROMPT + '''Answer the question based only on the following context:\n",
    "{context}\n",
    "\n",
    "Question: {question}\n",
    "'''\n",
    "\n",
    "# ChatPromptTemplate.from_template() 메서드를 사용하여 프롬프트 템플릿을 생성합니다.\n",
    "prompt = ChatPromptTemplate.from_template(template)\n",
    "\n",
    "# ChatOpenAI 인스턴스를 생성하여 LLM (대규모 언어 모델)을 설정합니다.\n",
    "# 여기서는 'gpt-4o' 모델을 사용하고, temperature는 0으로 설정하여 출력의 일관성을 높입니다.\n",
    "model = ChatOpenAI(model='gpt-4o', temperature=0)\n",
    "\n",
    "# 문서들을 형식화하는 함수를 정의합니다.\n",
    "# 각 문서의 페이지 내용을 합쳐 하나의 문자열로 반환합니다.\n",
    "def format_docs(docs):\n",
    "    return '\\n\\n'.join(doc.page_content for doc in docs)\n",
    "\n",
    "# RAG (Retrieval-Augmented Generation) 체인을 연결합니다.\n",
    "# 이 체인은 문서 검색, 형식화, 프롬프트 적용, 모델 호출, 출력 파싱의 과정을 거칩니다.\n",
    "rag_chain = (\n",
    "    {'context': retriever | format_docs, 'question': RunnablePassthrough()}  # 'context'는 retriever와 format_docs를 통해 설정되고, 'question'은 그대로 전달됩니다.\n",
    "    | prompt  # 프롬프트 템플릿을 적용합니다.\n",
    "    | model  # 모델을 호출합니다.\n",
    "    | StrOutputParser()  # 출력 파서를 통해 모델의 출력을 문자열로 변환합니다.\n",
    ")\n",
    "\n",
    "# 체인을 실행합니다.\n",
    "# 입력 메시지는 질문과 답변 형식의 텍스트입니다.\n",
    "input_message =  \"\"\"\n",
    "Q: 어떤 상황에서 외로움을 느끼시나요? \\\\\n",
    "A: 가장 외로웠던 상황은 가족들과 떨어져 살았을 때입니다. 내가 젊을 때 기러기 아빠였어요. 밤에 혼자 집에 가는데 집에 가도 아무도 없겠구나 싶어서 힘들더라고요. 지금도 가끔 생각나요. \\\\\n",
    "\"\"\" + INPUT_PROMPT  # 추가적인 입력 프롬프트가 이어집니다.\n",
    "\n",
    "# to_markdown() 함수를 호출하여 체인의 결과를 마크다운 형식으로 변환합니다.\n",
    "to_markdown(rag_chain.invoke(\"input_message\"))\n"
   ]
  }
 ],
 "metadata": {
  "kernelspec": {
   "display_name": "aiservice",
   "language": "python",
   "name": "python3"
  },
  "language_info": {
   "codemirror_mode": {
    "name": "ipython",
    "version": 3
   },
   "file_extension": ".py",
   "mimetype": "text/x-python",
   "name": "python",
   "nbconvert_exporter": "python",
   "pygments_lexer": "ipython3",
   "version": "3.9.19"
  }
 },
 "nbformat": 4,
 "nbformat_minor": 2
}
