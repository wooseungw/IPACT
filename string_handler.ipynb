{
 "cells": [
  {
   "cell_type": "code",
   "execution_count": 1,
   "metadata": {},
   "outputs": [
    {
     "data": {
      "text/plain": [
       "{'파이썬 코딩 도장': \"\\n안녕하세요. 파이썬 세계로 오신 것을 환영합니다.\\n파이썬은 비단뱀처럼 매력적인 언어입니다.\\n자유롭게 다루어 보세요.\\n[[파이썬 코딩 도장]]\\n100\\n[[분석결과]]\\n파이썬은 1991년 귀도 반 로섬(Guido van Rossum)이 발표한 고급 프로그래밍 언어로, 플랫폼 독립적이며 인터프리터식, 객체지향적, 동적 타이핑(dynamically typed) 대화형 언어이다.\\n파이썬이라는 이름은 귀도가 좋아하는 코미디 〈Monty Python's Flying Circus〉에서 따온 것이다.\\n파이썬은 오픈 소스이며 무료로 사용할 수 있다.\\n\",\n",
       " '분석결과': \"\\n안녕하세요. 파이썬 세계로 오신 것을 환영합니다.\\n파이썬은 비단뱀처럼 매력적인 언어입니다.\\n자유롭게 다루어 보세요.\\n[[파이썬 코딩 도장]]\\n100\\n[[분석결과]]\\n파이썬은 1991년 귀도 반 로섬(Guido van Rossum)이 발표한 고급 프로그래밍 언어로, 플랫폼 독립적이며 인터프리터식, 객체지향적, 동적 타이핑(dynamically typed) 대화형 언어이다.\\n파이썬이라는 이름은 귀도가 좋아하는 코미디 〈Monty Python's Flying Circus〉에서 따온 것이다.\\n파이썬은 오픈 소스이며 무료로 사용할 수 있다.\\n\"}"
      ]
     },
     "execution_count": 1,
     "metadata": {},
     "output_type": "execute_result"
    }
   ],
   "source": [
    "import re\n",
    "\n",
    "string = \"\"\"\n",
    "안녕하세요. 파이썬 세계로 오신 것을 환영합니다.\n",
    "파이썬은 비단뱀처럼 매력적인 언어입니다.\n",
    "자유롭게 다루어 보세요.\n",
    "[[파이썬 코딩 도장]]\n",
    "100\n",
    "[[분석결과]]\n",
    "파이썬은 1991년 귀도 반 로섬(Guido van Rossum)이 발표한 고급 프로그래밍 언어로, 플랫폼 독립적이며 인터프리터식, 객체지향적, 동적 타이핑(dynamically typed) 대화형 언어이다.\n",
    "파이썬이라는 이름은 귀도가 좋아하는 코미디 〈Monty Python's Flying Circus〉에서 따온 것이다.\n",
    "파이썬은 오픈 소스이며 무료로 사용할 수 있다.\n",
    "\"\"\"\n",
    "\n",
    "pattern = r\"\\[\\[(.*?)\\]\\]\"\n",
    "matches = re.findall(pattern, string)\n",
    "\n",
    "result_dict = {}\n",
    "for match in matches:\n",
    "    result_dict[match] = string\n",
    "\n",
    "result_dict"
   ]
  }
 ],
 "metadata": {
  "kernelspec": {
   "display_name": "pyserverprog",
   "language": "python",
   "name": "python3"
  },
  "language_info": {
   "codemirror_mode": {
    "name": "ipython",
    "version": 3
   },
   "file_extension": ".py",
   "mimetype": "text/x-python",
   "name": "python",
   "nbconvert_exporter": "python",
   "pygments_lexer": "ipython3",
   "version": "3.12.2"
  }
 },
 "nbformat": 4,
 "nbformat_minor": 2
}
