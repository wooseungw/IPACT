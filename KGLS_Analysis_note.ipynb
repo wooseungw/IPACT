{
 "cells": [
  {
   "cell_type": "code",
   "execution_count": null,
   "metadata": {},
   "outputs": [],
   "source": []
  },
  {
   "cell_type": "markdown",
   "metadata": {},
   "source": [
    "### 프롬프트"
   ]
  },
  {
   "cell_type": "markdown",
   "metadata": {},
   "source": [
    "본 연구에서 개발된 한국 노인의 외로움 측정도구는\n",
    "가족관계 외로움 5문항은(1번, 6번, 8번, 10번, 14번)\n",
    "사회적 외로움 6문항은(2번, 4번, 5번, 7번, 9번, 11번)\n",
    "소속감 3문항은(3번, 12번, 13번)의 세 가지 하위요인을 갖는 14문항의 4점\n",
    "\n",
    "Likert 척도로 구성되었다. 가능한 점수의 범위는 14~56점이며, 점수가 높을수\n",
    "\n",
    "록 외로움이 큼을 의미한다. 역문항은 1번, 2번, 4번, 6번, 7번, 9번, 10번, 11번,\n",
    "\n",
    "13번, 14번 문항으로 구성되어 있다. "
   ]
  }
 ],
 "metadata": {
  "language_info": {
   "name": "python"
  }
 },
 "nbformat": 4,
 "nbformat_minor": 2
}
